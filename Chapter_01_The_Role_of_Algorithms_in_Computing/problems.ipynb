{
 "metadata": {
  "language_info": {
   "codemirror_mode": {
    "name": "ipython",
    "version": 3
   },
   "file_extension": ".py",
   "mimetype": "text/x-python",
   "name": "python",
   "nbconvert_exporter": "python",
   "pygments_lexer": "ipython3",
   "version": "3.7.9-final"
  },
  "orig_nbformat": 2,
  "kernelspec": {
   "name": "python3",
   "display_name": "Python 3.7.9 32-bit",
   "metadata": {
    "interpreter": {
     "hash": "a8911c5d067e63088e45f305058b55613597b6e976089785bc980eed613d7eeb"
    }
   }
  }
 },
 "nbformat": 4,
 "nbformat_minor": 2,
 "cells": [
  {
   "source": [
    "## 1-1 Problems"
   ],
   "cell_type": "markdown",
   "metadata": {}
  },
  {
   "source": [
    "### 1-1 Comparison of Running Times:\n",
    "\n",
    "> For each function $f(n)$ and time $t$ in the following table, determine the largest size $n$ of a problem that can be solved in time $t$, assuming that the algorithm to solve the problem takes $f(n)$ microseconds.\n",
    "\n",
    "<center><img src = \"https://gateoverflow.in/?qa=blob&qa_blobid=14076269601600479656\"></center>\n",
    "\n",
    "In $f(n)$ microseconds, largest size of problem that can be solved is $n$. To find the largest size of problem that can be solved in time $t$, we need to solve the following equation for $n$\n",
    "\n",
    "\\begin{alignedat}{2} &f(n) = t &&\\ in \\ microseconds \\end{alignedat}\n",
    "\n",
    "Once we calculate the largest size of problem that can be solved in 111 second (let’s say NNN), it is easy to do so for other time units. But remember, NNN is an integer, so you should not just multiply NNN with conversion factor- the answer will be off by huge amount for higher time complexities. Instead you should multiply in the beginning of the calculation.\n"
   ],
   "cell_type": "markdown",
   "metadata": {}
  },
  {
   "cell_type": "code",
   "execution_count": 1,
   "metadata": {},
   "outputs": [
    {
     "output_type": "stream",
     "name": "stdout",
     "text": [
      "2^(1.00e+06) 2^(6.00e+07) 2^(3.60e+09) 2^(8.64e+10) 2^(2.59e+12) 2^(3.15e+13) 2^(3.15e+15)\n1.00e+12 | 3.60e+15 | 1.30e+19 | 7.46e+21 | 6.72e+24 | 9.95e+26 | 9.95e+30\n1.00e+06 | 6.00e+07 | 3.60e+09 | 8.64e+10 | 2.59e+12 | 3.15e+13 | 3.15e+15\n6.27e+04 | 2.80e+06 | 1.33e+08 | 2.76e+09 | 7.19e+10 | 7.98e+11 | 6.86e+13\n1000 | 7745 | 60000 | 293938 | 1609968 | 5615692 | 56156922\n100 | 391 | 1532 | 4420 | 13736 | 31593 | 146645\n19 | 25 | 31 | 36 | 41 | 44 | 51\n9 | 11 | 12 | 13 | 15 | 16 | 17\n"
     ]
    }
   ],
   "source": [
    "import math\n",
    "\n",
    "def log2(n):\n",
    "    return math.log(n) / math.log(2)\n",
    "\n",
    "complexities = [lambda n: math.sqrt(n),\n",
    "                lambda n: n,\n",
    "                lambda n: n * log2(n),\n",
    "                lambda n: n ** 2,\n",
    "                lambda n: n ** 3,\n",
    "                lambda n: 2 ** n,\n",
    "                lambda n: math.factorial(n)]\n",
    "\n",
    "max_bound = [1e40, 1e20, 1e20, 1e10, 1e10, 100, 100]\n",
    "\n",
    "times = [1000 * 1000,\n",
    "         1000 * 1000 * 60,\n",
    "         1000 * 1000 * 60 * 60,\n",
    "         1000 * 1000 * 60 * 60 * 24,\n",
    "         1000 * 1000 * 60 * 60 * 24 * 30,\n",
    "         1000 * 1000 * 60 * 60 * 24 * 365,\n",
    "         1000 * 1000 * 60 * 60 * 24 * 365 * 100]\n",
    "\n",
    "print(' '.join(map(lambda v: '2^(' + '{:.2e}'.format(v) + ')', times)))\n",
    "\n",
    "for k in range(len(complexities)):\n",
    "    c = complexities[k]\n",
    "    vals = []\n",
    "    for t in times:\n",
    "        l, r = 0, int(max_bound[k])\n",
    "        max_n = 0\n",
    "        while l <= r:\n",
    "            mid = (l + r) // 2\n",
    "            val = c(mid)\n",
    "            if val == float('inf') or val > t:\n",
    "                r = mid - 1\n",
    "            else:\n",
    "                l = mid + 1\n",
    "                max_n = max(max_n, mid)\n",
    "        vals.append(max_n)\n",
    "    if k < 3:\n",
    "        print(' | '.join(map(lambda v: '{:.2e}'.format(v), vals)))\n",
    "    else:\n",
    "        print(' | '.join(map(lambda v: str(int(math.floor(v))), vals)))"
   ]
  },
  {
   "source": [
    "<center><img src = \"https://htrinity.files.wordpress.com/2015/07/capture.png\"></center>"
   ],
   "cell_type": "markdown",
   "metadata": {}
  },
  {
   "cell_type": "code",
   "execution_count": null,
   "metadata": {},
   "outputs": [],
   "source": []
  }
 ]
}