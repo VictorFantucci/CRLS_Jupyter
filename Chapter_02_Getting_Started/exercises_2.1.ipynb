{
 "metadata": {
  "language_info": {
   "codemirror_mode": {
    "name": "ipython",
    "version": 3
   },
   "file_extension": ".py",
   "mimetype": "text/x-python",
   "name": "python",
   "nbconvert_exporter": "python",
   "pygments_lexer": "ipython3",
   "version": "3.7.9-final"
  },
  "orig_nbformat": 2,
  "kernelspec": {
   "name": "python3",
   "display_name": "Python 3.7.9 32-bit",
   "metadata": {
    "interpreter": {
     "hash": "a8911c5d067e63088e45f305058b55613597b6e976089785bc980eed613d7eeb"
    }
   }
  }
 },
 "nbformat": 4,
 "nbformat_minor": 2,
 "cells": [
  {
   "source": [
    "## 2.1 Insertion Sort"
   ],
   "cell_type": "markdown",
   "metadata": {}
  },
  {
   "source": [
    "### 2.1-1:\n",
    "\n",
    "> Using Figure 2.2 as a model, illustrate the operation of INSERTION-SORT on the array $A = < 31, 41, 59, 26, 41, 58 >$.\n",
    "\n",
    "\n",
    "<a align=\"center\">\n",
    "    <img src = \"https://walkccc.me/CLRS/img/2.1-1-1.png\" width=\"410\">\n",
    "</a>\n",
    "\n",
    "> $Figure 2.2$"
   ],
   "cell_type": "markdown",
   "metadata": {}
  },
  {
   "source": [
    "- $A = < 31, 41, 59, 26, 41, 58 >$\n",
    "\n",
    "- $A = < 31, 41, 59, 26, 41, 58 >$\n",
    "\n",
    "- $A = < 26, 31, 41, 59, 41, 58 >$\n",
    "\n",
    "- $A = < 26, 31, 41, 41, 59, 58 >$\n",
    "\n",
    "- $A = < 26, 31, 41, 41, 58, 59 >$"
   ],
   "cell_type": "markdown",
   "metadata": {}
  },
  {
   "source": [
    "### 2.1-2:\n",
    "\n",
    "> Rewrite the INSERTION-SORT procedure to sort into nonincreasing instead of nondecreasing order."
   ],
   "cell_type": "markdown",
   "metadata": {}
  },
  {
   "cell_type": "code",
   "execution_count": 1,
   "metadata": {},
   "outputs": [],
   "source": [
    "def insertion_sort(A):\n",
    "    for j in range(2, len(A) - 1):\n",
    "        key = A[j]\n",
    "        # Insert A[j] into sorted sequence A[1..j-1]\n",
    "        i = j - 1\n",
    "        while i > 0 and A[i] < key:\n",
    "            A[i + 1] = A[i]\n",
    "            i -= 1\n",
    "        A[i + 1] = key"
   ]
  },
  {
   "source": [
    "### 2.1-3:\n",
    "\n",
    "> **Input:** A sequence of $n$ numbers $A = < a_1, a_2, \\cdots, a_n>$ and a value $v$.\n",
    "\n",
    "> **Output:** An index $i$ such that $v=A[i]$ or the special value NIL if $v$ does not appear in A.\n",
    "\n",
    "> Write pseudocode for **linear search**, which scans through the sequence, looking for $v$. Using a loop invariant, prove that your algorithm is correct. Make sure that your loop invariant fulfills the three necessary properties."
   ],
   "cell_type": "markdown",
   "metadata": {}
  },
  {
   "cell_type": "code",
   "execution_count": 2,
   "metadata": {},
   "outputs": [],
   "source": [
    "def linear_search(A, v):\n",
    "    for i in range(len(A)):\n",
    "        if A[i] == v:\n",
    "            return i\n",
    "    return None"
   ]
  },
  {
   "source": [
    "### 2.1-4:\n",
    "\n",
    "> Consider the problem of adding two n-bit binary integers, stored in two n-element arrays $A$ and $B$. The sum of the two integers should be stored in binary form in an $(n+1)$-element array $C$. State the problem formally and write pseudocode for adding the two integers."
   ],
   "cell_type": "markdown",
   "metadata": {}
  },
  {
   "cell_type": "code",
   "execution_count": 3,
   "metadata": {},
   "outputs": [],
   "source": [
    "def add_binary(A, B):\n",
    "    n = len(A)\n",
    "    C = [0 for _ in range(n + 1)]\n",
    "    carry = 0\n",
    "    for i in range(n):\n",
    "        C[i] = A[i] + B[i] + carry\n",
    "        if C[i] > 1:\n",
    "            C[i] -= 2\n",
    "            carry = 1\n",
    "        else:\n",
    "            carry = 0\n",
    "    C[n] = carry\n",
    "    return C"
   ]
  }
 ]
}