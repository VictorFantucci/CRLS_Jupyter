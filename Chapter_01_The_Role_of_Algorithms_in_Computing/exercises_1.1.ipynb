{
 "metadata": {
  "language_info": {
   "codemirror_mode": {
    "name": "ipython",
    "version": 3
   },
   "file_extension": ".py",
   "mimetype": "text/x-python",
   "name": "python",
   "nbconvert_exporter": "python",
   "pygments_lexer": "ipython3",
   "version": 3
  },
  "orig_nbformat": 2
 },
 "nbformat": 4,
 "nbformat_minor": 2,
 "cells": [
  {
   "source": [
    "## 1.1 Algorithms"
   ],
   "cell_type": "markdown",
   "metadata": {}
  },
  {
   "source": [
    "### 1.1-1:\n",
    "\n",
    "> Give a real-world example that requires sorting or a real-world example that requires computing convex hull.\n",
    "\n",
    "- Sorting: browser the games with ascending prices on Steam.\n",
    "- Convex hull: computing the diameter of set of points."
   ],
   "cell_type": "markdown",
   "metadata": {}
  },
  {
   "source": [
    "### 1.1-2:\n",
    "\n",
    "> Other than speed, what other measures of efficiency might one use in a real-world setting?\n",
    "\n",
    "Memory efficiency and coding efficiency"
   ],
   "cell_type": "markdown",
   "metadata": {}
  },
  {
   "source": [
    "### 1.1-3:\n",
    "\n",
    "> Select a data structure that you have seen previously, and discuss its strengths and limitations.\n",
    "\n",
    "**Arrays**\n",
    "\n",
    "Some advantages of C-style arrays in programming languages:\n",
    "\n",
    "- O(1) lookup of elements using the array index.\n",
    "- Allocation is straightforward - can be allocated on the “call stack” or as permanent, static structures at compile-time if there be need. The latter is often used in embedded systems and other constrained environments. More complex structures may require dynamic allocation (or at least something that uses a static structure to “pretend” to do dynamic allocation).\n",
    "- Elements in C-style arrays are in contiguous memory areas (at least contiguous virtual memory if not always “real” memory).\n",
    "- Dynamic arrays and stack-allocated or static/global arrays can mostly be treated similarly.\n",
    "- Arrays can be initialized for easy use as lookup tables and similar structures.\n",
    "\n",
    "Disadvantages versus more “dynamic” structures:\n",
    "\n",
    "- Fixed size; if the array becomes “full” and you need more elements, you either have to create a new array and copy your existing array into it (expensive) or you have to come up with a more clever data structure, possibly a list of arrays or something similar.\n",
    "- If the array isn’t fully used, you waste space.\n",
    "- Reordering or swapping array elements is expensive versus structures like Linked lists.\n",
    "- Stack-allocated arrays in C have some annoying behaviors when passed to functions, such as sizeof(array) changing from the size of the whole array to the size of the array pointer (unless you’re using a very modern version of C and declare the array parameter carefully)."
   ],
   "cell_type": "markdown",
   "metadata": {}
  },
  {
   "source": [
    "### 1.1-4:\n",
    "\n",
    "> How are the shortest-path and traveling-salesman problems given above similar? How are they different?\n",
    "\n",
    "- Similar: finding path with shortest distance.\n",
    "- Different: traveling-salesman has more constrains."
   ],
   "cell_type": "markdown",
   "metadata": {}
  },
  {
   "source": [
    "### 1.1-5:\n",
    "\n",
    "> Come up with a real-word problem in which only the best solution will do. Then come up with one in which a solution that is \"approximately\" the best is good enough.\n",
    "\n",
    "\n",
    "- Best: find the GCD of two positive integer numbers.\n",
    "- Approximately: find the solution of differential equations."
   ],
   "cell_type": "markdown",
   "metadata": {}
  },
  {
   "cell_type": "code",
   "execution_count": null,
   "metadata": {},
   "outputs": [],
   "source": []
  }
 ]
}